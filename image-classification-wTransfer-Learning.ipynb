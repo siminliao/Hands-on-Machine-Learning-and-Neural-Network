{
  "cells": [
    {
      "cell_type": "markdown",
      "source": [
        "## Intro\n",
        "Build an algorithm to classify whether images contain either a dog or a cat. https://www.kaggle.com/c/dogs-vs-cats"
      ],
      "metadata": {
        "id": "b22EDoHd57er"
      }
    },
    {
      "cell_type": "code",
      "execution_count": null,
      "metadata": {
        "id": "PxcIA3qAixVd"
      },
      "outputs": [],
      "source": [
        "%matplotlib inline\n",
        "import warnings\n",
        "warnings.filterwarnings('ignore')\n",
        "import pandas as pd\n",
        "import numpy as np\n",
        "from IPython.core.interactiveshell import InteractiveShell\n",
        "InteractiveShell.ast_node_interactivity = \"all\"\n",
        "import pickle\n",
        "import tensorflow as tf\n",
        "tf.get_logger().setLevel('ERROR')"
      ]
    },
    {
      "cell_type": "code",
      "execution_count": null,
      "metadata": {
        "colab": {
          "base_uri": "https://localhost:8080/"
        },
        "id": "_ncyScVNZiBE",
        "outputId": "3c903154-9ca3-4748-e591-006947650032"
      },
      "outputs": [
        {
          "output_type": "stream",
          "name": "stdout",
          "text": [
            "Mounted at /content/drive\n",
            "/content/drive/My Drive/Kaggle/cats-and-dogs\n"
          ]
        }
      ],
      "source": [
        "from google.colab import drive\n",
        "\n",
        "drive.mount('/content/drive')\n",
        "%cd '/content/drive/My Drive/Kaggle/cats-and-dogs'"
      ]
    },
    {
      "cell_type": "code",
      "execution_count": null,
      "metadata": {
        "id": "3CeS6OPOZ2ad"
      },
      "outputs": [],
      "source": [
        "%%bash\n",
        "mkdir ./test_data\n",
        "unzip train.zip\n",
        "unzip test.zip -d ./test_data"
      ]
    },
    {
      "cell_type": "markdown",
      "metadata": {
        "id": "eCSK_gjbhHfx"
      },
      "source": [
        "## Sort train images to train and test, cats and dogs folders"
      ]
    },
    {
      "cell_type": "code",
      "execution_count": null,
      "metadata": {
        "id": "9qSjUPPmaToC"
      },
      "outputs": [],
      "source": [
        "import os\n",
        "\n",
        "base_dir = './train_test_split'\n",
        "\n",
        "train_dir = os.path.join(base_dir, 'train')\n",
        "test_dir = os.path.join(base_dir, 'test')\n",
        "\n",
        "train_cats = os.path.join(train_dir, 'cats')\n",
        "test_cats = os.path.join(test_dir, 'cats')\n",
        "\n",
        "train_dogs = os.path.join(train_dir, 'dogs')\n",
        "test_dogs = os.path.join(test_dir, 'dogs')\n"
      ]
    },
    {
      "cell_type": "code",
      "execution_count": null,
      "metadata": {
        "id": "UK7NasqOpXsV"
      },
      "outputs": [],
      "source": [
        "os.mkdir(base_dir)\n",
        "for path_ in [train_dir, test_dir,\n",
        "             train_cats, test_cats,\n",
        "             train_dogs, test_dogs]:\n",
        "    os.mkdir(path_)"
      ]
    },
    {
      "cell_type": "code",
      "execution_count": null,
      "metadata": {
        "id": "NyO_Hxmba0vB"
      },
      "outputs": [],
      "source": [
        "import shutil\n",
        "\n",
        "def copyfiles(a,b,c,d): \n",
        "  fnames = [a.format(i) for i in range(b,c)]\n",
        "  for fname in fnames:\n",
        "    src = os.path.join('./train',fname)\n",
        "    dst = os.path.join(d, fname)\n",
        "    shutil.copyfile(src,dst)\n",
        "    \n",
        "copyfiles('cat.{}.jpg',0,11000,train_cats)\n",
        "copyfiles('cat.{}.jpg',11000,12500,test_cats)\n",
        "copyfiles('dog.{}.jpg',0,11000,train_dogs)\n",
        "copyfiles('dog.{}.jpg',11000,12500,test_dogs)"
      ]
    },
    {
      "cell_type": "markdown",
      "metadata": {
        "id": "3yuql1QbhuDa"
      },
      "source": [
        "## Read in data"
      ]
    },
    {
      "cell_type": "code",
      "execution_count": null,
      "metadata": {
        "id": "NGtoY7bKa7nw",
        "colab": {
          "base_uri": "https://localhost:8080/"
        },
        "outputId": "ececf8bd-bee9-4a01-bbd8-81a6463b6d2a"
      },
      "outputs": [
        {
          "output_type": "stream",
          "name": "stdout",
          "text": [
            "Found 17600 images belonging to 2 classes.\n",
            "Found 4400 images belonging to 2 classes.\n"
          ]
        }
      ],
      "source": [
        "import tensorflow as tf\n",
        "from keras.preprocessing.image import ImageDataGenerator\n",
        "\n",
        "image_size = 255\n",
        "batch_size = 64\n",
        "\n",
        "train_generator = ImageDataGenerator(validation_split=0.2)\n",
        "train_data = train_generator.flow_from_directory(\n",
        "    train_dir,\n",
        "    class_mode='binary',\n",
        "    target_size=(image_size, image_size),\n",
        "    batch_size=batch_size,\n",
        "    seed=50,\n",
        "    subset=\"training\"\n",
        ")\n",
        "validation_data = train_generator.flow_from_directory(\n",
        "    train_dir,\n",
        "    class_mode='binary',\n",
        "    target_size=(image_size, image_size),\n",
        "    batch_size=batch_size,\n",
        "    seed=50,\n",
        "    subset=\"validation\"\n",
        ")"
      ]
    },
    {
      "cell_type": "markdown",
      "source": [
        "## Transfer learning"
      ],
      "metadata": {
        "id": "htpjJF0qN5i2"
      }
    },
    {
      "cell_type": "markdown",
      "source": [
        "### Add data augmentation"
      ],
      "metadata": {
        "id": "nELMLlWoVCX2"
      }
    },
    {
      "cell_type": "code",
      "source": [
        "from keras.models import Sequential\n",
        "from keras import layers\n",
        "from tensorflow import keras\n",
        "\n",
        "# Hyperparameter ref: https://www.kaggle.com/code/qwertyuioplain/datasc-dogs-vs-cats-transfer-learning-efficientnet#Dataset-batch-processing\n",
        "img_augmentation = Sequential(\n",
        "    [\n",
        "        layers.RandomRotation(factor=0.15),\n",
        "        layers.RandomTranslation(height_factor=0.1, width_factor=0.1),\n",
        "        layers.RandomFlip(),\n",
        "        layers.RandomContrast(factor=0.1),\n",
        "    ],\n",
        "    name=\"img_augmentation\",\n",
        ")"
      ],
      "metadata": {
        "id": "zZyVtzO5U8RN"
      },
      "execution_count": null,
      "outputs": []
    },
    {
      "cell_type": "markdown",
      "source": [
        "### Download VGG16 as the base model"
      ],
      "metadata": {
        "id": "SPqB96j5PLf6"
      }
    },
    {
      "cell_type": "code",
      "source": [
        "from tensorflow.keras.applications import VGG16\n",
        "base_model = VGG16(weights='imagenet',\n",
        "                  include_top=False\n",
        "                  )\n",
        "# Set not to update VGG16 weights\n",
        "base_model.trainable = False"
      ],
      "metadata": {
        "id": "LSAbiX_YJzPE",
        "colab": {
          "base_uri": "https://localhost:8080/"
        },
        "outputId": "189e8eed-3412-4e2a-d534-9deb57d4bb42"
      },
      "execution_count": null,
      "outputs": [
        {
          "output_type": "stream",
          "name": "stdout",
          "text": [
            "Downloading data from https://storage.googleapis.com/tensorflow/keras-applications/vgg16/vgg16_weights_tf_dim_ordering_tf_kernels_notop.h5\n",
            "58889256/58889256 [==============================] - 0s 0us/step\n"
          ]
        }
      ]
    },
    {
      "cell_type": "code",
      "source": [
        "base_model.summary()"
      ],
      "metadata": {
        "colab": {
          "base_uri": "https://localhost:8080/"
        },
        "id": "pA2AoNsMHvC6",
        "outputId": "762be195-5398-48d2-cad8-e23f36802042"
      },
      "execution_count": null,
      "outputs": [
        {
          "output_type": "stream",
          "name": "stdout",
          "text": [
            "Model: \"vgg16\"\n",
            "_________________________________________________________________\n",
            " Layer (type)                Output Shape              Param #   \n",
            "=================================================================\n",
            " input_1 (InputLayer)        [(None, None, None, 3)]   0         \n",
            "                                                                 \n",
            " block1_conv1 (Conv2D)       (None, None, None, 64)    1792      \n",
            "                                                                 \n",
            " block1_conv2 (Conv2D)       (None, None, None, 64)    36928     \n",
            "                                                                 \n",
            " block1_pool (MaxPooling2D)  (None, None, None, 64)    0         \n",
            "                                                                 \n",
            " block2_conv1 (Conv2D)       (None, None, None, 128)   73856     \n",
            "                                                                 \n",
            " block2_conv2 (Conv2D)       (None, None, None, 128)   147584    \n",
            "                                                                 \n",
            " block2_pool (MaxPooling2D)  (None, None, None, 128)   0         \n",
            "                                                                 \n",
            " block3_conv1 (Conv2D)       (None, None, None, 256)   295168    \n",
            "                                                                 \n",
            " block3_conv2 (Conv2D)       (None, None, None, 256)   590080    \n",
            "                                                                 \n",
            " block3_conv3 (Conv2D)       (None, None, None, 256)   590080    \n",
            "                                                                 \n",
            " block3_pool (MaxPooling2D)  (None, None, None, 256)   0         \n",
            "                                                                 \n",
            " block4_conv1 (Conv2D)       (None, None, None, 512)   1180160   \n",
            "                                                                 \n",
            " block4_conv2 (Conv2D)       (None, None, None, 512)   2359808   \n",
            "                                                                 \n",
            " block4_conv3 (Conv2D)       (None, None, None, 512)   2359808   \n",
            "                                                                 \n",
            " block4_pool (MaxPooling2D)  (None, None, None, 512)   0         \n",
            "                                                                 \n",
            " block5_conv1 (Conv2D)       (None, None, None, 512)   2359808   \n",
            "                                                                 \n",
            " block5_conv2 (Conv2D)       (None, None, None, 512)   2359808   \n",
            "                                                                 \n",
            " block5_conv3 (Conv2D)       (None, None, None, 512)   2359808   \n",
            "                                                                 \n",
            " block5_pool (MaxPooling2D)  (None, None, None, 512)   0         \n",
            "                                                                 \n",
            "=================================================================\n",
            "Total params: 14,714,688\n",
            "Trainable params: 0\n",
            "Non-trainable params: 14,714,688\n",
            "_________________________________________________________________\n"
          ]
        }
      ]
    },
    {
      "cell_type": "markdown",
      "source": [
        "### Build model using Sequential api"
      ],
      "metadata": {
        "id": "LbtzcM09R2m1"
      }
    },
    {
      "cell_type": "code",
      "source": [
        "from tensorflow.keras.optimizers import RMSprop\n",
        "from keras.layers import Dropout\n",
        "model = Sequential()\n",
        "model.add(layers.Input(shape=(image_size,image_size,3)))\n",
        "model.add(img_augmentation)\n",
        "model.add(base_model)\n",
        "model.add(layers.Flatten())\n",
        "model.add(layers.Dense(512, activation='relu'))\n",
        "model.add(layers.Dense(1, activation='sigmoid'))\n",
        "# Hyperparameters ref: https://www.kaggle.com/code/arezoodahesh/cats-vs-dogs-augmentation-transfer-learning#3.-Transfer-learning\n",
        "model.compile(loss='binary_crossentropy',\n",
        "            optimizer=RMSprop(learning_rate=1e-4),\n",
        "            metrics=['accuracy'])"
      ],
      "metadata": {
        "id": "K4cJHzJ2S_67"
      },
      "execution_count": null,
      "outputs": []
    },
    {
      "cell_type": "code",
      "source": [
        "model.summary()"
      ],
      "metadata": {
        "colab": {
          "base_uri": "https://localhost:8080/"
        },
        "id": "hghs1Pe9UWYg",
        "outputId": "1be58f3a-0ea7-4eb8-8db6-43b0a41a7b83"
      },
      "execution_count": null,
      "outputs": [
        {
          "output_type": "stream",
          "name": "stdout",
          "text": [
            "Model: \"sequential_1\"\n",
            "_________________________________________________________________\n",
            " Layer (type)                Output Shape              Param #   \n",
            "=================================================================\n",
            " img_augmentation (Sequentia  (None, 255, 255, 3)      0         \n",
            " l)                                                              \n",
            "                                                                 \n",
            " vgg16 (Functional)          (None, None, None, 512)   14714688  \n",
            "                                                                 \n",
            " flatten_1 (Flatten)         (None, 25088)             0         \n",
            "                                                                 \n",
            " dense_2 (Dense)             (None, 512)               12845568  \n",
            "                                                                 \n",
            " dropout (Dropout)           (None, 512)               0         \n",
            "                                                                 \n",
            " dense_3 (Dense)             (None, 256)               131328    \n",
            "                                                                 \n",
            " dense_4 (Dense)             (None, 1)                 257       \n",
            "                                                                 \n",
            "=================================================================\n",
            "Total params: 27,691,841\n",
            "Trainable params: 12,977,153\n",
            "Non-trainable params: 14,714,688\n",
            "_________________________________________________________________\n"
          ]
        }
      ]
    },
    {
      "cell_type": "code",
      "source": [
        "early_stop = keras.callbacks.EarlyStopping(patience=3, monitor='val_loss')\n",
        "save_best = keras.callbacks.ModelCheckpoint(filepath = 'best_model_vgg16.hdf5',\n",
        "                            verbose=1, \n",
        "                            save_best_only=True\n",
        ")\n",
        "history = model.fit_generator(\n",
        "      train_data,\n",
        "      steps_per_epoch=train_data.samples // batch_size, \n",
        "      epochs=10,\n",
        "      validation_data=validation_data,\n",
        "      validation_steps=validation_data.samples // batch_size, \n",
        "      callbacks=[early_stop, save_best]\n",
        ")"
      ],
      "metadata": {
        "colab": {
          "base_uri": "https://localhost:8080/"
        },
        "id": "kFFosz-HUqkK",
        "outputId": "13e0ff06-fae2-4466-d4c8-3a05af2e1938"
      },
      "execution_count": null,
      "outputs": [
        {
          "output_type": "stream",
          "name": "stdout",
          "text": [
            "Epoch 1/10\n",
            "275/275 [==============================] - ETA: 0s - loss: 0.7699 - accuracy: 0.9507\n",
            "Epoch 1: val_loss improved from inf to 0.20290, saving model to best_model_vgg16.hdf5\n",
            "275/275 [==============================] - 1844s 7s/step - loss: 0.7699 - accuracy: 0.9507 - val_loss: 0.2029 - val_accuracy: 0.9623\n",
            "Epoch 2/10\n",
            "275/275 [==============================] - ETA: 0s - loss: 0.0539 - accuracy: 0.9899\n",
            "Epoch 2: val_loss did not improve from 0.20290\n",
            "275/275 [==============================] - 83s 303ms/step - loss: 0.0539 - accuracy: 0.9899 - val_loss: 0.3184 - val_accuracy: 0.9662\n",
            "Epoch 3/10\n",
            "275/275 [==============================] - ETA: 0s - loss: 0.0172 - accuracy: 0.9977\n",
            "Epoch 3: val_loss did not improve from 0.20290\n",
            "275/275 [==============================] - 83s 301ms/step - loss: 0.0172 - accuracy: 0.9977 - val_loss: 0.3675 - val_accuracy: 0.9720\n",
            "Epoch 4/10\n",
            "275/275 [==============================] - ETA: 0s - loss: 0.0086 - accuracy: 0.9989\n",
            "Epoch 4: val_loss did not improve from 0.20290\n",
            "275/275 [==============================] - 83s 302ms/step - loss: 0.0086 - accuracy: 0.9989 - val_loss: 0.4003 - val_accuracy: 0.9717\n"
          ]
        }
      ]
    },
    {
      "cell_type": "code",
      "source": [
        "test_image_files = os.listdir('./test_data/test')\n",
        "test_df = pd.DataFrame(data = test_image_files, columns = ['filename'])\n",
        "test_df['id'] = test_df['filename'].apply(lambda f: int(f.split('.')[0]))\n",
        "test_df.sort_values(by = 'id', inplace = True, ignore_index = True)"
      ],
      "metadata": {
        "id": "EP2ykTyMmQrz"
      },
      "execution_count": null,
      "outputs": []
    },
    {
      "cell_type": "code",
      "source": [
        "test_gen = ImageDataGenerator(rescale = 1./255)\n",
        "test_generator = test_gen.flow_from_dataframe(\n",
        "    test_df, \n",
        "    './test_data/test', \n",
        "    x_col='filename',\n",
        "    class_mode= None,\n",
        "    target_size=(image_size, image_size),\n",
        "    batch_size=batch_size,\n",
        "    shuffle=False\n",
        ")"
      ],
      "metadata": {
        "colab": {
          "base_uri": "https://localhost:8080/"
        },
        "id": "ZRq5AM1Wu8IC",
        "outputId": "741642e5-bf8c-49ff-f0f2-2f11e6a8fb20"
      },
      "execution_count": null,
      "outputs": [
        {
          "output_type": "stream",
          "name": "stdout",
          "text": [
            "Found 12500 validated image filenames.\n"
          ]
        }
      ]
    },
    {
      "cell_type": "code",
      "source": [
        "best_model = tf.keras.models.load_model('best_model_vgg16.hdf5')\n",
        "predict = best_model.predict(test_generator)"
      ],
      "metadata": {
        "colab": {
          "base_uri": "https://localhost:8080/"
        },
        "id": "6PJI9TBGokyB",
        "outputId": "259d4a14-c9fe-41c6-942c-02f36209fe72"
      },
      "execution_count": null,
      "outputs": [
        {
          "output_type": "stream",
          "name": "stdout",
          "text": [
            "196/196 [==============================] - 251s 1s/step\n"
          ]
        }
      ]
    },
    {
      "cell_type": "code",
      "source": [
        "test_df[\"label\"] = predict\n",
        "result = test_df[[\"id\", \"label\"]]\n",
        "result.to_csv('submission_vgg16_4.csv', index=False)"
      ],
      "metadata": {
        "id": "KRv_YUdxo95N"
      },
      "execution_count": null,
      "outputs": []
    },
    {
      "cell_type": "code",
      "source": [
        "result.head()"
      ],
      "metadata": {
        "colab": {
          "base_uri": "https://localhost:8080/",
          "height": 206
        },
        "id": "TcqSZUx7vV5M",
        "outputId": "6896313c-4a3a-4856-fe96-5c1c8acaa4bb"
      },
      "execution_count": null,
      "outputs": [
        {
          "output_type": "execute_result",
          "data": {
            "text/plain": [
              "   id     label\n",
              "0   1  0.427737\n",
              "1   2  0.569844\n",
              "2   3  0.482319\n",
              "3   4  0.501430\n",
              "4   5  0.388577"
            ],
            "text/html": [
              "\n",
              "  <div id=\"df-9f602e53-9832-49fa-b3f1-ef062dbfcbcd\">\n",
              "    <div class=\"colab-df-container\">\n",
              "      <div>\n",
              "<style scoped>\n",
              "    .dataframe tbody tr th:only-of-type {\n",
              "        vertical-align: middle;\n",
              "    }\n",
              "\n",
              "    .dataframe tbody tr th {\n",
              "        vertical-align: top;\n",
              "    }\n",
              "\n",
              "    .dataframe thead th {\n",
              "        text-align: right;\n",
              "    }\n",
              "</style>\n",
              "<table border=\"1\" class=\"dataframe\">\n",
              "  <thead>\n",
              "    <tr style=\"text-align: right;\">\n",
              "      <th></th>\n",
              "      <th>id</th>\n",
              "      <th>label</th>\n",
              "    </tr>\n",
              "  </thead>\n",
              "  <tbody>\n",
              "    <tr>\n",
              "      <th>0</th>\n",
              "      <td>1</td>\n",
              "      <td>0.427737</td>\n",
              "    </tr>\n",
              "    <tr>\n",
              "      <th>1</th>\n",
              "      <td>2</td>\n",
              "      <td>0.569844</td>\n",
              "    </tr>\n",
              "    <tr>\n",
              "      <th>2</th>\n",
              "      <td>3</td>\n",
              "      <td>0.482319</td>\n",
              "    </tr>\n",
              "    <tr>\n",
              "      <th>3</th>\n",
              "      <td>4</td>\n",
              "      <td>0.501430</td>\n",
              "    </tr>\n",
              "    <tr>\n",
              "      <th>4</th>\n",
              "      <td>5</td>\n",
              "      <td>0.388577</td>\n",
              "    </tr>\n",
              "  </tbody>\n",
              "</table>\n",
              "</div>\n",
              "      <button class=\"colab-df-convert\" onclick=\"convertToInteractive('df-9f602e53-9832-49fa-b3f1-ef062dbfcbcd')\"\n",
              "              title=\"Convert this dataframe to an interactive table.\"\n",
              "              style=\"display:none;\">\n",
              "        \n",
              "  <svg xmlns=\"http://www.w3.org/2000/svg\" height=\"24px\"viewBox=\"0 0 24 24\"\n",
              "       width=\"24px\">\n",
              "    <path d=\"M0 0h24v24H0V0z\" fill=\"none\"/>\n",
              "    <path d=\"M18.56 5.44l.94 2.06.94-2.06 2.06-.94-2.06-.94-.94-2.06-.94 2.06-2.06.94zm-11 1L8.5 8.5l.94-2.06 2.06-.94-2.06-.94L8.5 2.5l-.94 2.06-2.06.94zm10 10l.94 2.06.94-2.06 2.06-.94-2.06-.94-.94-2.06-.94 2.06-2.06.94z\"/><path d=\"M17.41 7.96l-1.37-1.37c-.4-.4-.92-.59-1.43-.59-.52 0-1.04.2-1.43.59L10.3 9.45l-7.72 7.72c-.78.78-.78 2.05 0 2.83L4 21.41c.39.39.9.59 1.41.59.51 0 1.02-.2 1.41-.59l7.78-7.78 2.81-2.81c.8-.78.8-2.07 0-2.86zM5.41 20L4 18.59l7.72-7.72 1.47 1.35L5.41 20z\"/>\n",
              "  </svg>\n",
              "      </button>\n",
              "      \n",
              "  <style>\n",
              "    .colab-df-container {\n",
              "      display:flex;\n",
              "      flex-wrap:wrap;\n",
              "      gap: 12px;\n",
              "    }\n",
              "\n",
              "    .colab-df-convert {\n",
              "      background-color: #E8F0FE;\n",
              "      border: none;\n",
              "      border-radius: 50%;\n",
              "      cursor: pointer;\n",
              "      display: none;\n",
              "      fill: #1967D2;\n",
              "      height: 32px;\n",
              "      padding: 0 0 0 0;\n",
              "      width: 32px;\n",
              "    }\n",
              "\n",
              "    .colab-df-convert:hover {\n",
              "      background-color: #E2EBFA;\n",
              "      box-shadow: 0px 1px 2px rgba(60, 64, 67, 0.3), 0px 1px 3px 1px rgba(60, 64, 67, 0.15);\n",
              "      fill: #174EA6;\n",
              "    }\n",
              "\n",
              "    [theme=dark] .colab-df-convert {\n",
              "      background-color: #3B4455;\n",
              "      fill: #D2E3FC;\n",
              "    }\n",
              "\n",
              "    [theme=dark] .colab-df-convert:hover {\n",
              "      background-color: #434B5C;\n",
              "      box-shadow: 0px 1px 3px 1px rgba(0, 0, 0, 0.15);\n",
              "      filter: drop-shadow(0px 1px 2px rgba(0, 0, 0, 0.3));\n",
              "      fill: #FFFFFF;\n",
              "    }\n",
              "  </style>\n",
              "\n",
              "      <script>\n",
              "        const buttonEl =\n",
              "          document.querySelector('#df-9f602e53-9832-49fa-b3f1-ef062dbfcbcd button.colab-df-convert');\n",
              "        buttonEl.style.display =\n",
              "          google.colab.kernel.accessAllowed ? 'block' : 'none';\n",
              "\n",
              "        async function convertToInteractive(key) {\n",
              "          const element = document.querySelector('#df-9f602e53-9832-49fa-b3f1-ef062dbfcbcd');\n",
              "          const dataTable =\n",
              "            await google.colab.kernel.invokeFunction('convertToInteractive',\n",
              "                                                     [key], {});\n",
              "          if (!dataTable) return;\n",
              "\n",
              "          const docLinkHtml = 'Like what you see? Visit the ' +\n",
              "            '<a target=\"_blank\" href=https://colab.research.google.com/notebooks/data_table.ipynb>data table notebook</a>'\n",
              "            + ' to learn more about interactive tables.';\n",
              "          element.innerHTML = '';\n",
              "          dataTable['output_type'] = 'display_data';\n",
              "          await google.colab.output.renderOutput(dataTable, element);\n",
              "          const docLink = document.createElement('div');\n",
              "          docLink.innerHTML = docLinkHtml;\n",
              "          element.appendChild(docLink);\n",
              "        }\n",
              "      </script>\n",
              "    </div>\n",
              "  </div>\n",
              "  "
            ]
          },
          "metadata": {},
          "execution_count": 20
        }
      ]
    },
    {
      "cell_type": "code",
      "source": [
        "import PIL\n",
        "for id in [1,2,3,4,5]:\n",
        "  filename = './test_data/test/{}.jpg'.format(str(id))\n",
        "  image = PIL.Image.open(filename)\n",
        "  image.resize((100,100))\n",
        "  image.show()"
      ],
      "metadata": {
        "colab": {
          "base_uri": "https://localhost:8080/",
          "height": 517
        },
        "id": "xFIGGhnavXsN",
        "outputId": "9f938cca-73a2-4846-b657-6d7cefa13469"
      },
      "execution_count": null,
      "outputs": [
        {
          "output_type": "execute_result",
          "data": {
            "text/plain": [
              "<PIL.Image.Image image mode=RGB size=100x100 at 0x7FD31807D3D0>"
            ],
            "image/png": "[encoded data removed]"
          },
          "metadata": {},
          "execution_count": 40
        },
        {
          "output_type": "execute_result",
          "data": {
            "text/plain": [
              "<PIL.Image.Image image mode=RGB size=100x100 at 0x7FD32A13F130>"
            ],
            "image/png": "[encoded data removed]"
          },
          "metadata": {},
          "execution_count": 40
        },
        {
          "output_type": "execute_result",
          "data": {
            "text/plain": [
              "<PIL.Image.Image image mode=RGB size=100x100 at 0x7FD32A0210A0>"
            ],
            "image/png": "[encoded data removed]"
          },
          "metadata": {},
          "execution_count": 40
        },
        {
          "output_type": "execute_result",
          "data": {
            "text/plain": [
              "<PIL.Image.Image image mode=RGB size=100x100 at 0x7FD32A1C4B50>"
            ],
            "image/png": "[encoded data removed]"
          },
          "metadata": {},
          "execution_count": 40
        },
        {
          "output_type": "execute_result",
          "data": {
            "text/plain": [
              "<PIL.Image.Image image mode=RGB size=100x100 at 0x7FD31807D3D0>"
            ],
            "image/png": "[encoded data removed]"
          },
          "metadata": {},
          "execution_count": 40
        }
      ]
    }
  ],
  "metadata": {
    "colab": {
      "provenance": [],
      "machine_shape": "hm"
    },
    "gpuClass": "premium",
    "kernelspec": {
      "display_name": "Python 3",
      "name": "python3"
    },
    "language_info": {
      "name": "python"
    },
    "accelerator": "GPU"
  },
  "nbformat": 4,
  "nbformat_minor": 0
}